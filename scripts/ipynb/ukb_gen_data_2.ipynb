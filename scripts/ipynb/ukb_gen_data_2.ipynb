{
 "cells": [
  {
   "cell_type": "code",
   "execution_count": 2,
   "metadata": {},
   "outputs": [],
   "source": [
    "import pandas as pd\n",
    "import numpy as np\n",
    "import os"
   ]
  },
  {
   "cell_type": "code",
   "execution_count": 2,
   "metadata": {},
   "outputs": [],
   "source": [
    "heart_dict = pd.read_csv(\"Sandbox/ukb_category/Heart.csv\")\n",
    "left_heart_cols = heart_dict[\"UDI\"][heart_dict[\"Sym\"] == \"left\"].tolist()\n",
    "left_heart_cols = [\"eid\"] + left_heart_cols\n",
    "\n",
    "heart_dict = pd.read_csv(\"Sandbox/ukb_category/Heart.csv\")\n",
    "right_heart_cols = heart_dict[\"UDI\"][heart_dict[\"Sym\"] == \"right\"].tolist()\n",
    "right_heart_cols = [\"eid\"] + right_heart_cols\n",
    "\n",
    "left_heart = pd.read_csv(\"data/ukb674047.csv\", index_col=\"eid\", usecols=left_heart_cols)\n",
    "left_heart.to_csv(\"data/left_heart.csv\", index=True)\n",
    "right_heart = pd.read_csv(\"data/ukb674047.csv\", index_col=\"eid\", usecols=right_heart_cols)\n",
    "right_heart.to_csv(\"data/right_heart.csv\", index=True)\n"
   ]
  },
  {
   "cell_type": "code",
   "execution_count": 3,
   "metadata": {},
   "outputs": [],
   "source": [
    "brain_dict = pd.read_csv(\"Sandbox/ukb_category/Brain.csv\")\n",
    "left_brain_cols = brain_dict[\"UDI\"][brain_dict[\"Sym\"] == \"left\"].tolist()\n",
    "left_brain_cols = [\"eid\"] + left_brain_cols\n",
    "\n",
    "brain_dict = pd.read_csv(\"Sandbox/ukb_category/Brain.csv\")\n",
    "right_brain_cols = brain_dict[\"UDI\"][brain_dict[\"Sym\"] == \"right\"].tolist()\n",
    "right_brain_cols = [\"eid\"] + right_brain_cols\n",
    "\n",
    "left_brain = pd.read_csv(\"data/ukb674208.csv\", index_col=\"eid\", usecols=left_brain_cols)\n",
    "left_brain.to_csv(\"data/left_brain.csv\", index=True)\n",
    "right_brain = pd.read_csv(\"data/ukb674208.csv\", index_col=\"eid\", usecols=right_brain_cols)\n",
    "right_brain.to_csv(\"data/right_brain.csv\", index=True)"
   ]
  },
  {
   "cell_type": "code",
   "execution_count": 5,
   "metadata": {},
   "outputs": [],
   "source": [
    "kidney_dict = pd.read_csv(\"Sandbox/ukb_category/Kidney.csv\")\n",
    "left_kidney_cols = kidney_dict[\"UDI\"][kidney_dict[\"Sym\"] == \"left\"].tolist()\n",
    "left_kidney_cols = [\"eid\"] + left_kidney_cols\n",
    "\n",
    "kidney_dict = pd.read_csv(\"Sandbox/ukb_category/Kidney.csv\")\n",
    "right_kidney_cols = kidney_dict[\"UDI\"][kidney_dict[\"Sym\"] == \"right\"].tolist()\n",
    "right_kidney_cols = [\"eid\"] + right_kidney_cols\n",
    "\n",
    "left_kidney = pd.read_csv(\"data/ukb674208.csv\", index_col=\"eid\", usecols=left_kidney_cols)\n",
    "left_kidney.to_csv(\"data/left_kidney.csv\", index=True)\n",
    "right_kidney = pd.read_csv(\"data/ukb674208.csv\", index_col=\"eid\", usecols=right_kidney_cols)\n",
    "right_kidney.to_csv(\"data/right_kidney.csv\", index=True)"
   ]
  },
  {
   "cell_type": "code",
   "execution_count": 2,
   "metadata": {},
   "outputs": [],
   "source": [
    "import pandas as pd\n",
    "import numpy as np\n",
    "import os\n",
    "\n",
    "# 生成molecular文件\n",
    "molecular_dict = pd.read_csv(\"Sandbox/ukb_category/molecular.csv\")\n",
    "molecular_cols = molecular_dict[\"UDI\"][molecular_dict[\"Type\"] == \"molecular\"].tolist()\n",
    "molecular_cols = [\"eid\"] + molecular_cols\n",
    "\n",
    "risk_factor = pd.read_csv(\"data/ukb674208.csv\", index_col=\"eid\", usecols=molecular_cols)\n"
   ]
  },
  {
   "cell_type": "code",
   "execution_count": 7,
   "metadata": {},
   "outputs": [
    {
     "data": {
      "text/plain": [
       "(502366, 285)"
      ]
     },
     "execution_count": 7,
     "metadata": {},
     "output_type": "execute_result"
    }
   ],
   "source": [
    "risk_factor"
   ]
  }
 ],
 "metadata": {
  "kernelspec": {
   "display_name": "base",
   "language": "python",
   "name": "python3"
  },
  "language_info": {
   "codemirror_mode": {
    "name": "ipython",
    "version": 3
   },
   "file_extension": ".py",
   "mimetype": "text/x-python",
   "name": "python",
   "nbconvert_exporter": "python",
   "pygments_lexer": "ipython3",
   "version": "3.11.4"
  },
  "orig_nbformat": 4
 },
 "nbformat": 4,
 "nbformat_minor": 2
}
