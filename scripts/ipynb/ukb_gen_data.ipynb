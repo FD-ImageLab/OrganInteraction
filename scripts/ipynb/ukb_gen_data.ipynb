{
 "cells": [
  {
   "cell_type": "code",
   "execution_count": null,
   "metadata": {},
   "outputs": [],
   "source": [
    "import pandas as pd\n",
    "import numpy as np\n",
    "import os"
   ]
  },
  {
   "cell_type": "code",
   "execution_count": null,
   "metadata": {},
   "outputs": [],
   "source": [
    "heart_dict = pd.read_csv(\"Sandbox/ukb_category/Heart.csv\")\n",
    "heart_cols = heart_dict[\"UDI\"][heart_dict[\"Category\"] == \"157\"].tolist()\n",
    "heart_cols = [\"eid\"] + heart_cols"
   ]
  },
  {
   "cell_type": "code",
   "execution_count": null,
   "metadata": {},
   "outputs": [],
   "source": [
    "brain_dict = pd.read_csv(\"Sandbox/ukb_category/Brain.csv\")\n",
    "brain_cols = brain_dict[\"UDI\"][brain_dict[\"Category\"] == 1101].tolist()\n",
    "brain_cols = [\"eid\"] + brain_cols"
   ]
  },
  {
   "cell_type": "code",
   "execution_count": null,
   "metadata": {},
   "outputs": [],
   "source": [
    "kidney_dict = pd.read_csv(\"Sandbox/ukb_category/Kidney.csv\")\n",
    "kidney_cols = kidney_dict[\"UDI\"][kidney_dict[\"Region\"] == \"Kidney\"].tolist()\n",
    "kidney_cols = [\"eid\"] + kidney_cols"
   ]
  },
  {
   "cell_type": "code",
   "execution_count": null,
   "metadata": {},
   "outputs": [],
   "source": [
    "liver_dict = pd.read_csv(\"Sandbox/ukb_category/Liver.csv\")\n",
    "liver_cols = liver_dict[\"UDI\"][liver_dict[\"Region\"] == \"Liver\"].tolist()\n",
    "liver_cols = [\"eid\"] + liver_cols"
   ]
  },
  {
   "cell_type": "code",
   "execution_count": null,
   "metadata": {},
   "outputs": [],
   "source": [
    "lung_dict = pd.read_csv(\"Sandbox/ukb_category/Lung.csv\")\n",
    "lung_cols = lung_dict[\"UDI\"][lung_dict[\"Region\"] == \"Lung\"].tolist()\n",
    "lung_cols = [\"eid\"] + lung_cols"
   ]
  },
  {
   "cell_type": "code",
   "execution_count": null,
   "metadata": {},
   "outputs": [],
   "source": [
    "pancreas_dict = pd.read_csv(\"Sandbox/ukb_category/Pancreas.csv\")\n",
    "pancreas_cols = pancreas_dict[\"UDI\"][pancreas_dict[\"Region\"] == \"Pancreas\"].tolist()\n",
    "pancreas_cols = [\"eid\"] + pancreas_cols"
   ]
  },
  {
   "cell_type": "code",
   "execution_count": null,
   "metadata": {},
   "outputs": [],
   "source": [
    "spleen_dict = pd.read_csv(\"Sandbox/ukb_category/Spleen.csv\")\n",
    "spleen_cols = spleen_dict[\"UDI\"][spleen_dict[\"Region\"] == \"Spleen\"].tolist()\n",
    "spleen_cols = [\"eid\"] + spleen_cols"
   ]
  },
  {
   "cell_type": "code",
   "execution_count": null,
   "metadata": {},
   "outputs": [],
   "source": [
    "heart = pd.read_csv(\"data/ukb674047.csv\", index_col=\"eid\", usecols=heart_cols)"
   ]
  },
  {
   "cell_type": "code",
   "execution_count": null,
   "metadata": {},
   "outputs": [],
   "source": [
    "brain = pd.read_csv(\"data/ukb674208.csv\", index_col=\"eid\", usecols=brain_cols)"
   ]
  },
  {
   "cell_type": "code",
   "execution_count": null,
   "metadata": {},
   "outputs": [],
   "source": [
    "kidney = pd.read_csv(\"data/ukb674208.csv\", index_col=\"eid\", usecols=kidney_cols)"
   ]
  },
  {
   "cell_type": "code",
   "execution_count": null,
   "metadata": {},
   "outputs": [],
   "source": [
    "liver = pd.read_csv(\"data/ukb674208.csv\", index_col=\"eid\", usecols=liver_cols)"
   ]
  },
  {
   "cell_type": "code",
   "execution_count": null,
   "metadata": {},
   "outputs": [],
   "source": [
    "lung = pd.read_csv(\"data/ukb674208.csv\", index_col=\"eid\", usecols=lung_cols)"
   ]
  },
  {
   "cell_type": "code",
   "execution_count": null,
   "metadata": {},
   "outputs": [],
   "source": [
    "pancreas = pd.read_csv(\"data/ukb674208.csv\", index_col=\"eid\", usecols=pancreas_cols)"
   ]
  },
  {
   "cell_type": "code",
   "execution_count": null,
   "metadata": {},
   "outputs": [],
   "source": [
    "spleen = pd.read_csv(\"data/ukb674208.csv\", index_col=\"eid\", usecols=spleen_cols)"
   ]
  },
  {
   "cell_type": "code",
   "execution_count": null,
   "metadata": {},
   "outputs": [],
   "source": [
    "heart.to_csv(\"data/heart.csv\", index=True)\n",
    "brain.to_csv(\"data/brain.csv\", index=True)\n",
    "kidney.to_csv(\"data/kidney.csv\", index=True)\n",
    "liver.to_csv(\"data/liver.csv\", index=True)\n",
    "lung.to_csv(\"data/lung.csv\", index=True)\n",
    "pancreas.to_csv(\"data/pancreas.csv\", index=True)\n",
    "spleen.to_csv(\"data/spleen.csv\", index=True)\n"
   ]
  },
  {
   "cell_type": "code",
   "execution_count": null,
   "metadata": {},
   "outputs": [],
   "source": [
    "# 生成risk factor文件\n",
    "risk_factor_dict = pd.read_csv(\"Sandbox/ukb_category/risk_factor.csv\")\n",
    "risk_factor_cols = risk_factor_dict[\"UDI\"][risk_factor_dict[\"Category\"] == 100050].tolist()\n",
    "risk_factor_cols = [\"eid\"] + risk_factor_cols\n",
    "\n",
    "risk_factor = pd.read_csv(\"data/ukb670788_all.csv\", index_col=\"eid\", usecols=risk_factor_cols)\n",
    "risk_factor.to_csv(\"data/risk_factor.csv\", index=True)"
   ]
  },
  {
   "cell_type": "code",
   "execution_count": null,
   "metadata": {},
   "outputs": [],
   "source": [
    "# 生成feature文件，需要比较高的内存\n",
    "feature_dict = pd.read_csv(\"../Sandbox/ukb_category/feature.csv\")\n",
    "feature_cols = feature_dict[\"UDI\"][feature_dict[\"Type\"] == \"feature\"].tolist()\n",
    "feature_cols = [\"eid\"] + feature_cols"
   ]
  },
  {
   "cell_type": "code",
   "execution_count": null,
   "metadata": {},
   "outputs": [],
   "source": [
    "feature = pd.read_csv(\"../data/ukb670788_all.csv\", index_col=\"eid\", usecols=feature_cols, engine=\"c\")\n",
    "enroll_id = pd.read_csv(\"../data/ukb670788_all.csv\", index_col=\"eid\", usecols=[\"eid\", \"53-2.0\"])\n",
    "id = enroll_id.dropna(subset=[\"53-2.0\"])\n",
    "new_feature = feature.loc[id.index]\n",
    "new_feature.to_csv(\"../data/feature.csv\")\n",
    "feature.to_csv(\"../data/feature_all.csv\", index=True)"
   ]
  },
  {
   "cell_type": "code",
   "execution_count": 71,
   "metadata": {},
   "outputs": [],
   "source": []
  },
  {
   "cell_type": "code",
   "execution_count": null,
   "metadata": {},
   "outputs": [],
   "source": []
  },
  {
   "cell_type": "code",
   "execution_count": 65,
   "metadata": {},
   "outputs": [],
   "source": []
  },
  {
   "cell_type": "code",
   "execution_count": null,
   "metadata": {},
   "outputs": [],
   "source": []
  },
  {
   "cell_type": "code",
   "execution_count": null,
   "metadata": {},
   "outputs": [],
   "source": []
  }
 ],
 "metadata": {
  "kernelspec": {
   "display_name": "base",
   "language": "python",
   "name": "python3"
  },
  "language_info": {
   "codemirror_mode": {
    "name": "ipython",
    "version": 3
   },
   "file_extension": ".py",
   "mimetype": "text/x-python",
   "name": "python",
   "nbconvert_exporter": "python",
   "pygments_lexer": "ipython3",
   "version": "3.9.12"
  },
  "orig_nbformat": 4
 },
 "nbformat": 4,
 "nbformat_minor": 2
}
