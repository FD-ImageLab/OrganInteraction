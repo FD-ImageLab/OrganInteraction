{
 "cells": [
  {
   "cell_type": "code",
   "execution_count": 19,
   "metadata": {},
   "outputs": [],
   "source": [
    "from utils.func import concate_png\n",
    "\n",
    "import os\n",
    "png_files = [\"plot/sankey/sandbox/modality/\" + file for file in os.listdir(\"plot/sankey/sandbox/modality/\") if file.endswith('.png')]\n",
    "import cv2\n",
    "\n"
   ]
  },
  {
   "cell_type": "code",
   "execution_count": 20,
   "metadata": {},
   "outputs": [
    {
     "data": {
      "text/plain": [
       "True"
      ]
     },
     "execution_count": 20,
     "metadata": {},
     "output_type": "execute_result"
    }
   ],
   "source": [
    "png_files = [png_files[i] for i in [0, 1, 4, 3, 6, 5, 2]]\n",
    "png = concate_png(png_files, cshape=[7, 1])\n",
    "cv2.imwrite(\"plot/sankey/sandbox/modality/concat.png\", png)"
   ]
  },
  {
   "cell_type": "code",
   "execution_count": 18,
   "metadata": {},
   "outputs": [
    {
     "data": {
      "text/plain": [
       "['plot/sankey/sandbox/modality/Brain.png',\n",
       " 'plot/sankey/sandbox/modality/concat.png',\n",
       " 'plot/sankey/sandbox/modality/Heart.png',\n",
       " 'plot/sankey/sandbox/modality/Kidney.png',\n",
       " 'plot/sankey/sandbox/modality/Liver.png',\n",
       " 'plot/sankey/sandbox/modality/Lung.png',\n",
       " 'plot/sankey/sandbox/modality/Pancreas.png',\n",
       " 'plot/sankey/sandbox/modality/Spleen.png']"
      ]
     },
     "execution_count": 18,
     "metadata": {},
     "output_type": "execute_result"
    }
   ],
   "source": [
    "png_files\n"
   ]
  }
 ],
 "metadata": {
  "kernelspec": {
   "display_name": "base",
   "language": "python",
   "name": "python3"
  },
  "language_info": {
   "codemirror_mode": {
    "name": "ipython",
    "version": 3
   },
   "file_extension": ".py",
   "mimetype": "text/x-python",
   "name": "python",
   "nbconvert_exporter": "python",
   "pygments_lexer": "ipython3",
   "version": "3.11.4"
  }
 },
 "nbformat": 4,
 "nbformat_minor": 2
}
